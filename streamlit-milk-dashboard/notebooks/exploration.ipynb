{
 "cells": [
  {
   "cell_type": "markdown",
   "metadata": {},
   "source": [
    "# Milk Records Exploration Notebook\n",
    "\n",
    "This notebook is intended for exploratory data analysis (EDA) of the milk records dataset. It will include data loading, cleaning, and visualization steps to gain insights before integrating findings into the main dashboard."
   ]
  },
  {
   "cell_type": "code",
   "execution_count": null,
   "metadata": {},
   "outputs": [],
   "source": [
    "# Import necessary libraries\n",
    "import pandas as pd\n",
    "import seaborn as sns\n",
    "import matplotlib.pyplot as plt\n",
    "import requests\n",
    "from io import StringIO\n",
    "\n",
    "# Define the URL for the dataset\n",
    "sheet_url = \"https://docs.google.com/spreadsheets/d/1tAnw43L2nrF-7wGqqppF51w6tE8w42qhmPKSXBO3fmo/export?format=csv&gid=725446854\"\n",
    "\n",
    "# Load the data\n",
    "response = requests.get(sheet_url)\n",
    "data = StringIO(response.text)\n",
    "df = pd.read_csv(data)\n",
    "df.columns = df.columns.str.strip()  # Clean column names\n",
    "\n",
    "# Display the first few rows of the dataframe\n",
    "df.head()"
   ]
  },
  {
   "cell_type": "code",
   "execution_count": null,
   "metadata": {},
   "outputs": [],
   "source": [
    "# Data cleaning\n",
    "col_name = \"How much milk received? (ml/Liters)\"\n",
    "if col_name in df.columns:\n",
    "    df[col_name] = df[col_name].str.replace('ml', '').str.strip().astype(int)\n",
    "df['Date of Record'] = pd.to_datetime(df['Date of Record'])\n",
    "\n",
    "# Check for missing values\n",
    "df.isnull().sum()"
   ]
  },
  {
   "cell_type": "code",
   "execution_count": null,
   "metadata": {},
   "outputs": [],
   "source": [
    "# Exploratory Data Analysis\n",
    "\n",
    "# Summary statistics\n",
    "df.describe()\n",
    "\n",
    "# Visualizations\n",
    "plt.figure(figsize=(12, 6))\n",
    "sns.lineplot(data=df, x='Date of Record', y=col_name, marker='o')\n",
    "plt.title('Daily Milk Received Over Time')\n",
    "plt.xticks(rotation=45)\n",
    "plt.show()"
   ]
  },
  {
   "cell_type": "code",
   "execution_count": null,
   "metadata": {},
   "outputs": [],
   "source": [
    "# Milk Received Status Distribution\n",
    "plt.figure(figsize=(8, 6))\n",
    "sns.countplot(data=df, x='Milk Received?')\n",
    "plt.title('Distribution of Milk Received Status')\n",
    "plt.show()"
   ]
  },
  {
   "cell_type": "code",
   "execution_count": null,
   "metadata": {},
   "outputs": [],
   "source": [
    "# Milk Quantity Distribution\n",
    "plt.figure(figsize=(8, 6))\n",
    "sns.histplot(df[col_name], bins=20, kde=True)\n",
    "plt.title('Distribution of Milk Quantity')\n",
    "plt.xlabel('Milk Quantity (ml)')\n",
    "plt.ylabel('Frequency')\n",
    "plt.show()"
   ]
  }
 ],
 "metadata": {
  "kernelspec": {
   "display_name": "Python 3",
   "language": "python",
   "name": "python3"
  },
  "language_info": {
   "codemirror_mode": {
    "name": "ipython",
    "version": 3
   },
   "file_extension": ".py",
   "mimetype": "text/x-python",
   "name": "python",
   "nbconvert_exporter": "python",
   "pygments_lexer": "ipython3",
   "version": "3.8.5"
  }
 },
 "nbformat": 4,
 "nbformat_minor": 4
}